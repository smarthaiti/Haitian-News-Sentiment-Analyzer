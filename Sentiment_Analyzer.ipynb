{
 "cells": [
  {
   "cell_type": "code",
   "execution_count": null,
   "metadata": {
    "colab": {
     "base_uri": "https://localhost:8080/",
     "height": 1000
    },
    "executionInfo": {
     "elapsed": 117676,
     "status": "ok",
     "timestamp": 1616342368008,
     "user": {
      "displayName": "Pascal Brun",
      "photoUrl": "https://lh3.googleusercontent.com/a-/AOh14GgSgPTiraXpKyEXrheS5vDJ30dQYoS_ZmAVQgvgwg=s64",
      "userId": "01796382522012590957"
     },
     "user_tz": 240
    },
    "id": "-7RJ4Eo2pAta",
    "outputId": "6d22613d-1f1f-4ab5-bb49-2bc632eb1272"
   },
   "outputs": [],
   "source": [
    "!pip install spacy\n",
    "!pip install textblob_fr"
   ]
  },
  {
   "cell_type": "code",
   "execution_count": 40,
   "metadata": {
    "executionInfo": {
     "elapsed": 35563,
     "status": "ok",
     "timestamp": 1616342425730,
     "user": {
      "displayName": "Pascal Brun",
      "photoUrl": "https://lh3.googleusercontent.com/a-/AOh14GgSgPTiraXpKyEXrheS5vDJ30dQYoS_ZmAVQgvgwg=s64",
      "userId": "01796382522012590957"
     },
     "user_tz": 240
    },
    "id": "RKYXeHQ0hyE3"
   },
   "outputs": [],
   "source": [
    "import pandas as pd\n",
    "from spacy.lang.fr.stop_words import STOP_WORDS\n",
    "from textblob import Blobber\n",
    "from textblob_fr import PatternTagger, PatternAnalyzer\n",
    "from datetime import date, datetime, timedelta\n",
    "import matplotlib.pyplot as plt\n",
    "\n",
    "df1 = pd.read_csv('2020articles.csv')\n",
    "df2 = pd.read_csv('2019articles.csv')\n",
    "df3 = pd.read_csv('2018articles.csv')\n",
    "df4 = pd.read_csv('2021articles.csv')\n",
    "articledb = pd.concat([df1,df2,df3,df4])\n",
    "articledb.published_at = pd.to_datetime(articledb.published_at).dt.date\n",
    "#articles_list = articledb.sort_values(by='published_at').description.dropna().to_list()"
   ]
  },
  {
   "cell_type": "code",
   "execution_count": 41,
   "metadata": {
    "colab": {
     "base_uri": "https://localhost:8080/"
    },
    "executionInfo": {
     "elapsed": 32959,
     "status": "ok",
     "timestamp": 1616342515380,
     "user": {
      "displayName": "Pascal Brun",
      "photoUrl": "https://lh3.googleusercontent.com/a-/AOh14GgSgPTiraXpKyEXrheS5vDJ30dQYoS_ZmAVQgvgwg=s64",
      "userId": "01796382522012590957"
     },
     "user_tz": 240
    },
    "id": "t0MMX67cgs5L",
    "outputId": "87dad653-0fb6-4e60-87cb-118afe737f67"
   },
   "outputs": [],
   "source": [
    "#creating a list of sentiment from all articles published in one day matching a query\n",
    "def create_daily_sentiment(articles, start_date, query):\n",
    "    #create a mask to search for articles within the desired date range\n",
    "    mask = (articles.published_at > start_date-timedelta(days=1)) & (articles.published_at <= start_date)\n",
    "    articles = articles.loc[mask]\n",
    "    \n",
    "    #clean and normalize the articles and query to prepare for parsing words\n",
    "    articles['cleaned_article'] = articles['description'].replace('\\n','').str.normalize('NFKD').str.encode('ascii', errors='ignore').str.decode('utf-8').str.lower()\n",
    "    articles['cleaned_article'] = articles['cleaned_article'].replace('\\t','')\n",
    "    articles['cleaned_article'] = articles['cleaned_article'].replace('\\r','')\n",
    "    cleaned = articles.dropna(subset=['cleaned_article'])\n",
    "    query = query.encode('ascii', errors='ignore').decode('utf-8').lower()\n",
    "    \n",
    "    #instantiate an empty query set which will be used to find articles based on words used in query\n",
    "    queryset = []\n",
    "    queried_articles = cleaned[cleaned.cleaned_article.str.contains(query)]\n",
    "    queryset.append(queried_articles)\n",
    "\n",
    "    #create a list of all articles that contain the query by concatenating the queryset and make the words lowercase\n",
    "    cleaned = pd.concat(queryset)\n",
    "    cleaned[\"article_text\"] = cleaned[\"cleaned_article\"].astype(str).str.lower()\n",
    "    \n",
    "    #create sentiment scores for each article\n",
    "    article_sentiment_list = []\n",
    "    textblob = Blobber(pos_tagger=PatternTagger(), analyzer=PatternAnalyzer())\n",
    "    for article in cleaned[\"article_text\"]:\n",
    "        score = textblob(article).sentiment[0]\n",
    "        if (score > 0.145): #calibrated the positive score manually by reading the articles and comparing them to the given score\n",
    "            article_sentiment_list.append('Positive')\n",
    "        elif (score < 0):\n",
    "            article_sentiment_list.append('Negative')\n",
    "        else:\n",
    "            article_sentiment_list.append('Neutral')\n",
    "    \n",
    "    #create counter of general sentiments of all the articles found from our query within a given day\n",
    "    sentiment = {'Positive':0,'Negative':0,'Neutral':0}\n",
    "    for index in range(len(article_sentiment_list)):\n",
    "        sentiment[article_sentiment_list[index]] = article_sentiment_list.count(article_sentiment_list[index])\n",
    "    cleaned['combined_sentiment'] = sentiment['Positive'] - sentiment['Negative']\n",
    "    cleaned['sentiment'] = article_sentiment_list\n",
    "    clean_db = cleaned.reset_index()\n",
    "    return clean_db\n",
    "\n",
    "\n",
    "#find articles that include search query and create a list of daily overall sentiment and add it to the query database 'querydb'\n",
    "def create_sentiment_timeseries_db(start_year, start_month, start_day, date_range, search_query, articledb):\n",
    "    querydb = []\n",
    "    for x in range(date_range):\n",
    "        start_date = date(start_year,start_month,start_day)-timedelta(days=x)\n",
    "        cleandb = create_daily_sentiment(articledb, start_date, search_query)\n",
    "        querydb.append(cleandb)\n",
    "    querydb = pd.concat(querydb) \n",
    "    return querydb\n",
    "\n",
    "#prepare 7 day, 30 day, and 90 day EMA and SMA to compare to the raw data for our timeseries\n",
    "def create_moving_averages_db(db):\n",
    "    db.set_index('published_at', inplace=True)\n",
    "    db.sort_index(ascending=True, inplace=True)\n",
    "    db['cumulative'] = db['combined_sentiment'].cumsum()\n",
    "    db['baseline'] = 0\n",
    "    db['7 day SMA'] = db['cumulative'].rolling(7).mean()\n",
    "    db['7 day EMA'] = db['cumulative'].ewm(span=7,min_periods=0,adjust=False,ignore_na=False).mean()\n",
    "    db['30 day SMA'] = db['cumulative'].rolling(30).mean()\n",
    "    db['30 day EMA'] = db['cumulative'].ewm(span=30,min_periods=0,adjust=False,ignore_na=False).mean()\n",
    "    db['90 day EMA'] = db['cumulative'].ewm(span=90,min_periods=0,adjust=False,ignore_na=False).mean()\n",
    "    return db"
   ]
  },
  {
   "cell_type": "code",
   "execution_count": 42,
   "metadata": {
    "colab": {
     "base_uri": "https://localhost:8080/",
     "height": 328
    },
    "executionInfo": {
     "elapsed": 1426,
     "status": "ok",
     "timestamp": 1616342564884,
     "user": {
      "displayName": "Pascal Brun",
      "photoUrl": "https://lh3.googleusercontent.com/a-/AOh14GgSgPTiraXpKyEXrheS5vDJ30dQYoS_ZmAVQgvgwg=s64",
      "userId": "01796382522012590957"
     },
     "user_tz": 240
    },
    "id": "AXiSiec_lkoE",
    "outputId": "f8b2cecd-ded3-4bfd-b94f-e1602e477566"
   },
   "outputs": [
    {
     "name": "stderr",
     "output_type": "stream",
     "text": [
      "/Users/pascalabrun/Library/Python/3.7/lib/python/site-packages/ipykernel_launcher.py:8: SettingWithCopyWarning: \n",
      "A value is trying to be set on a copy of a slice from a DataFrame.\n",
      "Try using .loc[row_indexer,col_indexer] = value instead\n",
      "\n",
      "See the caveats in the documentation: https://pandas.pydata.org/pandas-docs/stable/user_guide/indexing.html#returning-a-view-versus-a-copy\n",
      "  \n",
      "/Users/pascalabrun/Library/Python/3.7/lib/python/site-packages/ipykernel_launcher.py:9: SettingWithCopyWarning: \n",
      "A value is trying to be set on a copy of a slice from a DataFrame.\n",
      "Try using .loc[row_indexer,col_indexer] = value instead\n",
      "\n",
      "See the caveats in the documentation: https://pandas.pydata.org/pandas-docs/stable/user_guide/indexing.html#returning-a-view-versus-a-copy\n",
      "  if __name__ == '__main__':\n",
      "/Users/pascalabrun/Library/Python/3.7/lib/python/site-packages/ipykernel_launcher.py:10: SettingWithCopyWarning: \n",
      "A value is trying to be set on a copy of a slice from a DataFrame.\n",
      "Try using .loc[row_indexer,col_indexer] = value instead\n",
      "\n",
      "See the caveats in the documentation: https://pandas.pydata.org/pandas-docs/stable/user_guide/indexing.html#returning-a-view-versus-a-copy\n",
      "  # Remove the CWD from sys.path while we load stuff.\n"
     ]
    },
    {
     "data": {
      "image/png": "[encoded data removed]",
      "text/plain": [
       "<Figure size 432x288 with 1 Axes>"
      ]
     },
     "metadata": {
      "needs_background": "light"
     },
     "output_type": "display_data"
    },
    {
     "name": "stdout",
     "output_type": "stream",
     "text": [
      "1456 articles included the search query 'jovenel moise'\n"
     ]
    }
   ],
   "source": [
    "search_query = 'jovenel moise' #looking for articles mentioning the former Haitian president to find sentiment across popular Haitian news sites \n",
    "\n",
    "sentiment_timeseries = create_sentiment_timeseries_db(2021, 3, 14, 365, search_query, articledb)\n",
    "\n",
    "#create the timeseries plot of our EMA and SMA sentiment values\n",
    "db = create_moving_averages_db(sentiment_timeseries)\n",
    "db[['cumulative','30 day EMA','90 day EMA']].plot()\n",
    "db.baseline.plot(linestyle='dashed')\n",
    "plt.xticks(rotation=90)\n",
    "plt.show()\n",
    "\n",
    "article_amounts = len(db.index)\n",
    "print(str(article_amounts)+\" articles included the search query \"+\"'\"+search_query+\"'\")"
   ]
  },
  {
   "cell_type": "code",
   "execution_count": 35,
   "metadata": {},
   "outputs": [
    {
     "data": {
      "text/plain": [
       "<AxesSubplot:title={'center':'Sentiment Across Sources'}, xlabel='source'>"
      ]
     },
     "execution_count": 35,
     "metadata": {},
     "output_type": "execute_result"
    },
    {
     "data": {
      "image/png": "[encoded data removed]",
      "text/plain": [
       "<Figure size 432x288 with 1 Axes>"
      ]
     },
     "metadata": {
      "needs_background": "light"
     },
     "output_type": "display_data"
    }
   ],
   "source": [
    "db.groupby('source')['combined_sentiment'].sum().plot(kind='bar', title='Sentiment Across Sources')"
   ]
  },
  {
   "cell_type": "code",
   "execution_count": 39,
   "metadata": {
    "colab": {
     "base_uri": "https://localhost:8080/"
    },
    "executionInfo": {
     "elapsed": 8681,
     "status": "ok",
     "timestamp": 1615575274316,
     "user": {
      "displayName": "Pascal Brun",
      "photoUrl": "https://lh3.googleusercontent.com/a-/AOh14GgSgPTiraXpKyEXrheS5vDJ30dQYoS_ZmAVQgvgwg=s64",
      "userId": "01796382522012590957"
     },
     "user_tz": 300
    },
    "id": "lKb17bv3v0_G",
    "outputId": "d9789076-0d72-42cd-b3f6-5cce1aa76cff"
   },
   "outputs": [
    {
     "data": {
      "text/html": [
       "<div>\n",
       "<style scoped>\n",
       "    .dataframe tbody tr th:only-of-type {\n",
       "        vertical-align: middle;\n",
       "    }\n",
       "\n",
       "    .dataframe tbody tr th {\n",
       "        vertical-align: top;\n",
       "    }\n",
       "\n",
       "    .dataframe thead th {\n",
       "        text-align: right;\n",
       "    }\n",
       "</style>\n",
       "<table border=\"1\" class=\"dataframe\">\n",
       "  <thead>\n",
       "    <tr style=\"text-align: right;\">\n",
       "      <th></th>\n",
       "      <th>source</th>\n",
       "      <th>sentiment</th>\n",
       "      <th>url</th>\n",
       "    </tr>\n",
       "  </thead>\n",
       "  <tbody>\n",
       "    <tr>\n",
       "      <th>0</th>\n",
       "      <td>AlterPresse</td>\n",
       "      <td>Negative</td>\n",
       "      <td>7</td>\n",
       "    </tr>\n",
       "    <tr>\n",
       "      <th>1</th>\n",
       "      <td>AlterPresse</td>\n",
       "      <td>Neutral</td>\n",
       "      <td>135</td>\n",
       "    </tr>\n",
       "    <tr>\n",
       "      <th>2</th>\n",
       "      <td>AlterPresse</td>\n",
       "      <td>Positive</td>\n",
       "      <td>24</td>\n",
       "    </tr>\n",
       "    <tr>\n",
       "      <th>3</th>\n",
       "      <td>IciHaiti</td>\n",
       "      <td>Negative</td>\n",
       "      <td>4</td>\n",
       "    </tr>\n",
       "    <tr>\n",
       "      <th>4</th>\n",
       "      <td>IciHaiti</td>\n",
       "      <td>Neutral</td>\n",
       "      <td>23</td>\n",
       "    </tr>\n",
       "    <tr>\n",
       "      <th>5</th>\n",
       "      <td>IciHaiti</td>\n",
       "      <td>Positive</td>\n",
       "      <td>10</td>\n",
       "    </tr>\n",
       "    <tr>\n",
       "      <th>6</th>\n",
       "      <td>Juno7</td>\n",
       "      <td>Negative</td>\n",
       "      <td>32</td>\n",
       "    </tr>\n",
       "    <tr>\n",
       "      <th>7</th>\n",
       "      <td>Juno7</td>\n",
       "      <td>Neutral</td>\n",
       "      <td>323</td>\n",
       "    </tr>\n",
       "    <tr>\n",
       "      <th>8</th>\n",
       "      <td>Juno7</td>\n",
       "      <td>Positive</td>\n",
       "      <td>79</td>\n",
       "    </tr>\n",
       "    <tr>\n",
       "      <th>9</th>\n",
       "      <td>Le Nouvelliste</td>\n",
       "      <td>Negative</td>\n",
       "      <td>24</td>\n",
       "    </tr>\n",
       "    <tr>\n",
       "      <th>10</th>\n",
       "      <td>Le Nouvelliste</td>\n",
       "      <td>Neutral</td>\n",
       "      <td>214</td>\n",
       "    </tr>\n",
       "    <tr>\n",
       "      <th>11</th>\n",
       "      <td>Le Nouvelliste</td>\n",
       "      <td>Positive</td>\n",
       "      <td>13</td>\n",
       "    </tr>\n",
       "    <tr>\n",
       "      <th>12</th>\n",
       "      <td>Rezo Nodwes</td>\n",
       "      <td>Negative</td>\n",
       "      <td>87</td>\n",
       "    </tr>\n",
       "    <tr>\n",
       "      <th>13</th>\n",
       "      <td>Rezo Nodwes</td>\n",
       "      <td>Neutral</td>\n",
       "      <td>374</td>\n",
       "    </tr>\n",
       "    <tr>\n",
       "      <th>14</th>\n",
       "      <td>Rezo Nodwes</td>\n",
       "      <td>Positive</td>\n",
       "      <td>55</td>\n",
       "    </tr>\n",
       "    <tr>\n",
       "      <th>15</th>\n",
       "      <td>VantBefInfo</td>\n",
       "      <td>Negative</td>\n",
       "      <td>4</td>\n",
       "    </tr>\n",
       "    <tr>\n",
       "      <th>16</th>\n",
       "      <td>VantBefInfo</td>\n",
       "      <td>Neutral</td>\n",
       "      <td>35</td>\n",
       "    </tr>\n",
       "    <tr>\n",
       "      <th>17</th>\n",
       "      <td>VantBefInfo</td>\n",
       "      <td>Positive</td>\n",
       "      <td>13</td>\n",
       "    </tr>\n",
       "  </tbody>\n",
       "</table>\n",
       "</div>"
      ],
      "text/plain": [
       "            source sentiment  url\n",
       "0      AlterPresse  Negative    7\n",
       "1      AlterPresse   Neutral  135\n",
       "2      AlterPresse  Positive   24\n",
       "3         IciHaiti  Negative    4\n",
       "4         IciHaiti   Neutral   23\n",
       "5         IciHaiti  Positive   10\n",
       "6            Juno7  Negative   32\n",
       "7            Juno7   Neutral  323\n",
       "8            Juno7  Positive   79\n",
       "9   Le Nouvelliste  Negative   24\n",
       "10  Le Nouvelliste   Neutral  214\n",
       "11  Le Nouvelliste  Positive   13\n",
       "12     Rezo Nodwes  Negative   87\n",
       "13     Rezo Nodwes   Neutral  374\n",
       "14     Rezo Nodwes  Positive   55\n",
       "15     VantBefInfo  Negative    4\n",
       "16     VantBefInfo   Neutral   35\n",
       "17     VantBefInfo  Positive   13"
      ]
     },
     "execution_count": 39,
     "metadata": {},
     "output_type": "execute_result"
    }
   ],
   "source": [
    "db.groupby(['source',\"sentiment\"])[\"url\"].count().reset_index()"
   ]
  },
  {
   "cell_type": "code",
   "execution_count": null,
   "metadata": {},
   "outputs": [],
   "source": []
  }
 ],
 "metadata": {
  "colab": {
   "authorship_tag": "ABX9TyPdaTaAT/KzBC8wnBh80W7/",
   "collapsed_sections": [],
   "mount_file_id": "1dQE7y8KADMQ-HF7jUoZxOt-ety_cbqDp",
   "name": "NLP-TOP2VEC.ipynb",
   "provenance": []
  },
  "kernelspec": {
   "display_name": "Python 3 (ipykernel)",
   "language": "python",
   "name": "python3"
  },
  "language_info": {
   "codemirror_mode": {
    "name": "ipython",
    "version": 3
   },
   "file_extension": ".py",
   "mimetype": "text/x-python",
   "name": "python",
   "nbconvert_exporter": "python",
   "pygments_lexer": "ipython3",
   "version": "3.7.5"
  }
 },
 "nbformat": 4,
 "nbformat_minor": 4
}
